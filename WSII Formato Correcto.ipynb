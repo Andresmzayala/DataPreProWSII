{
 "cells": [
  {
   "cell_type": "code",
   "execution_count": 16,
   "metadata": {},
   "outputs": [],
   "source": [
    "#Importamos paquetes\n",
    "import pandas as pd\n",
    "import numpy as np\n",
    "from sklearn.linear_model import LinearRegression\n",
    "from sklearn.metrics import mean_squared_error # poner este como metrica\n",
    "import matplotlib.pyplot as plt\n",
    "import seaborn as sns"
   ]
  },
  {
   "cell_type": "code",
   "execution_count": 17,
   "metadata": {},
   "outputs": [
    {
     "data": {
      "text/html": [
       "<div>\n",
       "<style scoped>\n",
       "    .dataframe tbody tr th:only-of-type {\n",
       "        vertical-align: middle;\n",
       "    }\n",
       "\n",
       "    .dataframe tbody tr th {\n",
       "        vertical-align: top;\n",
       "    }\n",
       "\n",
       "    .dataframe thead th {\n",
       "        text-align: right;\n",
       "    }\n",
       "</style>\n",
       "<table border=\"1\" class=\"dataframe\">\n",
       "  <thead>\n",
       "    <tr style=\"text-align: right;\">\n",
       "      <th></th>\n",
       "      <th>Unnamed: 0</th>\n",
       "      <th>id</th>\n",
       "      <th>ad_type</th>\n",
       "      <th>start_date</th>\n",
       "      <th>end_date</th>\n",
       "      <th>created_on</th>\n",
       "      <th>lat</th>\n",
       "      <th>lon</th>\n",
       "      <th>l1</th>\n",
       "      <th>l2</th>\n",
       "      <th>...</th>\n",
       "      <th>surface_total</th>\n",
       "      <th>surface_covered</th>\n",
       "      <th>price</th>\n",
       "      <th>currency</th>\n",
       "      <th>price_period</th>\n",
       "      <th>title</th>\n",
       "      <th>description</th>\n",
       "      <th>property_type</th>\n",
       "      <th>operation_type</th>\n",
       "      <th>geometry</th>\n",
       "    </tr>\n",
       "  </thead>\n",
       "  <tbody>\n",
       "    <tr>\n",
       "      <th>0</th>\n",
       "      <td>861131</td>\n",
       "      <td>CScTjaFiP6yCzS8tFX0ZVA==</td>\n",
       "      <td>Propiedad</td>\n",
       "      <td>2020-12-14</td>\n",
       "      <td>9999-12-31</td>\n",
       "      <td>2020-12-14</td>\n",
       "      <td>6.203000</td>\n",
       "      <td>-75.572000</td>\n",
       "      <td>Colombia</td>\n",
       "      <td>Antioquia</td>\n",
       "      <td>...</td>\n",
       "      <td>NaN</td>\n",
       "      <td>NaN</td>\n",
       "      <td>9.000000e+09</td>\n",
       "      <td>COP</td>\n",
       "      <td>NaN</td>\n",
       "      <td>Hermosa Mansión En El Poblado. Área Construida...</td>\n",
       "      <td>&lt;b&gt;Hermosa Mansión En El Poblado. Área Constru...</td>\n",
       "      <td>Casa</td>\n",
       "      <td>Venta</td>\n",
       "      <td>POINT (-75.572 6.203)</td>\n",
       "    </tr>\n",
       "    <tr>\n",
       "      <th>1</th>\n",
       "      <td>200972</td>\n",
       "      <td>DlCxox9+FuugkxS2kBVfJg==</td>\n",
       "      <td>Propiedad</td>\n",
       "      <td>2020-09-16</td>\n",
       "      <td>2021-05-14</td>\n",
       "      <td>2020-09-16</td>\n",
       "      <td>4.722748</td>\n",
       "      <td>-74.073115</td>\n",
       "      <td>Colombia</td>\n",
       "      <td>Cundinamarca</td>\n",
       "      <td>...</td>\n",
       "      <td>NaN</td>\n",
       "      <td>NaN</td>\n",
       "      <td>6.250000e+08</td>\n",
       "      <td>COP</td>\n",
       "      <td>NaN</td>\n",
       "      <td>APARTAMENTO EN VENTA, BOGOTA-CIUDAD JARDIN NORTE</td>\n",
       "      <td>Venta apartamento en piso 16 con vista exterio...</td>\n",
       "      <td>Apartamento</td>\n",
       "      <td>Venta</td>\n",
       "      <td>POINT (-74.0731146 4.7227485)</td>\n",
       "    </tr>\n",
       "    <tr>\n",
       "      <th>2</th>\n",
       "      <td>554622</td>\n",
       "      <td>yitN1AigL45gh/K2YSF8rw==</td>\n",
       "      <td>Propiedad</td>\n",
       "      <td>2020-08-19</td>\n",
       "      <td>2020-08-20</td>\n",
       "      <td>2020-08-19</td>\n",
       "      <td>4.709000</td>\n",
       "      <td>-74.030000</td>\n",
       "      <td>Colombia</td>\n",
       "      <td>Cundinamarca</td>\n",
       "      <td>...</td>\n",
       "      <td>NaN</td>\n",
       "      <td>NaN</td>\n",
       "      <td>4.200000e+08</td>\n",
       "      <td>COP</td>\n",
       "      <td>NaN</td>\n",
       "      <td>Apartamento En Venta En Bogota Bella Suiza Cod...</td>\n",
       "      <td>Al entrar a este bonito apartamento interior e...</td>\n",
       "      <td>Casa</td>\n",
       "      <td>Venta</td>\n",
       "      <td>POINT (-74.03 4.709)</td>\n",
       "    </tr>\n",
       "    <tr>\n",
       "      <th>3</th>\n",
       "      <td>540321</td>\n",
       "      <td>hELQ9njwODbLMpATXieRdQ==</td>\n",
       "      <td>Propiedad</td>\n",
       "      <td>2020-11-23</td>\n",
       "      <td>2020-11-30</td>\n",
       "      <td>2020-11-23</td>\n",
       "      <td>NaN</td>\n",
       "      <td>NaN</td>\n",
       "      <td>Colombia</td>\n",
       "      <td>Santander</td>\n",
       "      <td>...</td>\n",
       "      <td>NaN</td>\n",
       "      <td>NaN</td>\n",
       "      <td>1.310000e+09</td>\n",
       "      <td>COP</td>\n",
       "      <td>NaN</td>\n",
       "      <td>SE VENDE LOCAL COMERCIAL EN CABECERA DEL LLANO...</td>\n",
       "      <td>Se encuentra ubicado en el sector de la Cabece...</td>\n",
       "      <td>Otro</td>\n",
       "      <td>Venta</td>\n",
       "      <td>POINT EMPTY</td>\n",
       "    </tr>\n",
       "    <tr>\n",
       "      <th>4</th>\n",
       "      <td>448920</td>\n",
       "      <td>aBCtKT7LDzt2CxJQ+gVFEA==</td>\n",
       "      <td>Propiedad</td>\n",
       "      <td>2020-10-06</td>\n",
       "      <td>2020-10-07</td>\n",
       "      <td>2020-10-06</td>\n",
       "      <td>NaN</td>\n",
       "      <td>NaN</td>\n",
       "      <td>Colombia</td>\n",
       "      <td>Antioquia</td>\n",
       "      <td>...</td>\n",
       "      <td>NaN</td>\n",
       "      <td>NaN</td>\n",
       "      <td>2.100000e+08</td>\n",
       "      <td>COP</td>\n",
       "      <td>NaN</td>\n",
       "      <td>Apartamento en Venta Ubicado en ITAGUI</td>\n",
       "      <td>Codigo Inmueble 4302 Apartamento con 3 habitac...</td>\n",
       "      <td>Apartamento</td>\n",
       "      <td>Venta</td>\n",
       "      <td>POINT EMPTY</td>\n",
       "    </tr>\n",
       "  </tbody>\n",
       "</table>\n",
       "<p>5 rows × 27 columns</p>\n",
       "</div>"
      ],
      "text/plain": [
       "   Unnamed: 0                        id    ad_type  start_date    end_date  \\\n",
       "0      861131  CScTjaFiP6yCzS8tFX0ZVA==  Propiedad  2020-12-14  9999-12-31   \n",
       "1      200972  DlCxox9+FuugkxS2kBVfJg==  Propiedad  2020-09-16  2021-05-14   \n",
       "2      554622  yitN1AigL45gh/K2YSF8rw==  Propiedad  2020-08-19  2020-08-20   \n",
       "3      540321  hELQ9njwODbLMpATXieRdQ==  Propiedad  2020-11-23  2020-11-30   \n",
       "4      448920  aBCtKT7LDzt2CxJQ+gVFEA==  Propiedad  2020-10-06  2020-10-07   \n",
       "\n",
       "   created_on       lat        lon        l1            l2  ... surface_total  \\\n",
       "0  2020-12-14  6.203000 -75.572000  Colombia     Antioquia  ...           NaN   \n",
       "1  2020-09-16  4.722748 -74.073115  Colombia  Cundinamarca  ...           NaN   \n",
       "2  2020-08-19  4.709000 -74.030000  Colombia  Cundinamarca  ...           NaN   \n",
       "3  2020-11-23       NaN        NaN  Colombia     Santander  ...           NaN   \n",
       "4  2020-10-06       NaN        NaN  Colombia     Antioquia  ...           NaN   \n",
       "\n",
       "  surface_covered         price currency  price_period  \\\n",
       "0             NaN  9.000000e+09      COP           NaN   \n",
       "1             NaN  6.250000e+08      COP           NaN   \n",
       "2             NaN  4.200000e+08      COP           NaN   \n",
       "3             NaN  1.310000e+09      COP           NaN   \n",
       "4             NaN  2.100000e+08      COP           NaN   \n",
       "\n",
       "                                               title  \\\n",
       "0  Hermosa Mansión En El Poblado. Área Construida...   \n",
       "1   APARTAMENTO EN VENTA, BOGOTA-CIUDAD JARDIN NORTE   \n",
       "2  Apartamento En Venta En Bogota Bella Suiza Cod...   \n",
       "3  SE VENDE LOCAL COMERCIAL EN CABECERA DEL LLANO...   \n",
       "4             Apartamento en Venta Ubicado en ITAGUI   \n",
       "\n",
       "                                         description  property_type  \\\n",
       "0  <b>Hermosa Mansión En El Poblado. Área Constru...           Casa   \n",
       "1  Venta apartamento en piso 16 con vista exterio...    Apartamento   \n",
       "2  Al entrar a este bonito apartamento interior e...           Casa   \n",
       "3  Se encuentra ubicado en el sector de la Cabece...           Otro   \n",
       "4  Codigo Inmueble 4302 Apartamento con 3 habitac...    Apartamento   \n",
       "\n",
       "   operation_type                       geometry  \n",
       "0           Venta          POINT (-75.572 6.203)  \n",
       "1           Venta  POINT (-74.0731146 4.7227485)  \n",
       "2           Venta           POINT (-74.03 4.709)  \n",
       "3           Venta                    POINT EMPTY  \n",
       "4           Venta                    POINT EMPTY  \n",
       "\n",
       "[5 rows x 27 columns]"
      ]
     },
     "execution_count": 17,
     "metadata": {},
     "output_type": "execute_result"
    }
   ],
   "source": [
    "#Importamos datos de entrenamiento\n",
    "data = pd.read_csv(\"properties_colombia_train.csv\")\n",
    "data.head()"
   ]
  },
  {
   "cell_type": "code",
   "execution_count": 18,
   "metadata": {},
   "outputs": [
    {
     "name": "stdout",
     "output_type": "stream",
     "text": [
      "La cantidad de registros duplicados es: 0\n"
     ]
    }
   ],
   "source": [
    "#revisamos el dataset\n",
    "print('La cantidad de registros duplicados es:', data['Unnamed: 0'].duplicated().sum())"
   ]
  },
  {
   "cell_type": "code",
   "execution_count": 19,
   "metadata": {},
   "outputs": [
    {
     "name": "stdout",
     "output_type": "stream",
     "text": [
      "La cantidad de registros duplicados es: 0\n"
     ]
    }
   ],
   "source": [
    "print('La cantidad de registros duplicados es:', data['id'].duplicated().sum())"
   ]
  },
  {
   "cell_type": "code",
   "execution_count": 20,
   "metadata": {},
   "outputs": [
    {
     "name": "stdout",
     "output_type": "stream",
     "text": [
      "La cantidad de registros duplicados es: 134742\n"
     ]
    }
   ],
   "source": [
    "print('La cantidad de registros duplicados es:', data['geometry'].duplicated().sum())"
   ]
  },
  {
   "cell_type": "code",
   "execution_count": 21,
   "metadata": {},
   "outputs": [
    {
     "name": "stdout",
     "output_type": "stream",
     "text": [
      "Porcentaje de valores faltantes de la variable Pesos: 0.03189082202390293\n"
     ]
    }
   ],
   "source": [
    "#Se decide dropear los precios faltantes debido a que son un porcentaje pauperrimo\n",
    "print('Porcentaje de valores faltantes de la variable Pesos:', (data['price'].isnull().sum()/len(data))*100)"
   ]
  },
  {
   "cell_type": "code",
   "execution_count": 22,
   "metadata": {},
   "outputs": [],
   "source": [
    "data['price']=data['price'].dropna()"
   ]
  },
  {
   "cell_type": "code",
   "execution_count": 23,
   "metadata": {},
   "outputs": [
    {
     "name": "stdout",
     "output_type": "stream",
     "text": [
      "Count of zeros in price :  4\n"
     ]
    }
   ],
   "source": [
    "count = (data['price'] == 0).sum()\n",
    "print('Count of zeros in price : ', count)"
   ]
  },
  {
   "cell_type": "code",
   "execution_count": 24,
   "metadata": {},
   "outputs": [],
   "source": [
    "data.drop(data[data['price'] == 0].index, inplace = True)"
   ]
  },
  {
   "cell_type": "code",
   "execution_count": 25,
   "metadata": {},
   "outputs": [
    {
     "name": "stdout",
     "output_type": "stream",
     "text": [
      "Count of zeros in price :  0\n"
     ]
    }
   ],
   "source": [
    "count = (data['price'] == 0).sum()\n",
    "print('Count of zeros in price : ', count)"
   ]
  },
  {
   "cell_type": "code",
   "execution_count": 26,
   "metadata": {},
   "outputs": [
    {
     "data": {
      "image/png": "[encoded data removed]",
      "text/plain": [
       "<Figure size 640x480 with 1 Axes>"
      ]
     },
     "metadata": {},
     "output_type": "display_data"
    }
   ],
   "source": [
    "#Se identifica la distribucion del precio mediante un histograma\n",
    "sns.histplot(x = 'price', data= data, kde = True)\n",
    "plt.show()"
   ]
  },
  {
   "cell_type": "code",
   "execution_count": 27,
   "metadata": {},
   "outputs": [
    {
     "data": {
      "text/plain": [
       "643618127.234391"
      ]
     },
     "execution_count": 27,
     "metadata": {},
     "output_type": "execute_result"
    }
   ],
   "source": [
    "#Se identifica el promedio del precio\n",
    "data.price.mean()"
   ]
  },
  {
   "cell_type": "code",
   "execution_count": 28,
   "metadata": {},
   "outputs": [],
   "source": [
    "from sklearn.impute import SimpleImputer\n",
    "\n",
    "# Definimos, en strategy, la estrategia que usaremos para la imputación. En este caso, utilizamos una medida de tendencia central.\n",
    "# Más específicamente, la media\n",
    "\n",
    "imputer = SimpleImputer(strategy = 'mean')"
   ]
  },
  {
   "cell_type": "code",
   "execution_count": 29,
   "metadata": {},
   "outputs": [],
   "source": [
    "imputer.fit(data[['price']])\n",
    "\n",
    "data['price'] = imputer.transform(data[['price']])"
   ]
  },
  {
   "cell_type": "code",
   "execution_count": 30,
   "metadata": {},
   "outputs": [
    {
     "data": {
      "text/plain": [
       "643618127.234391"
      ]
     },
     "execution_count": 30,
     "metadata": {},
     "output_type": "execute_result"
    }
   ],
   "source": [
    "data.price.mean()"
   ]
  },
  {
   "cell_type": "code",
   "execution_count": 31,
   "metadata": {},
   "outputs": [
    {
     "data": {
      "image/png": "[encoded data removed]",
      "text/plain": [
       "<Figure size 640x480 with 1 Axes>"
      ]
     },
     "metadata": {},
     "output_type": "display_data"
    }
   ],
   "source": [
    "# Veamos cómo se distribuye, posterior a la imputación, la variable\n",
    "\n",
    "sns.histplot(x = 'price', data= data, kde = True)\n",
    "plt.show()"
   ]
  },
  {
   "cell_type": "code",
   "execution_count": 32,
   "metadata": {},
   "outputs": [
    {
     "data": {
      "image/png": "[encoded data removed]",
      "text/plain": [
       "<Figure size 640x480 with 1 Axes>"
      ]
     },
     "metadata": {},
     "output_type": "display_data"
    }
   ],
   "source": [
    "#Mediante boxplox se identifica que hay outliers que afectan la distribucion normal de los datos\n",
    "sns.boxplot(x = 'price', data = data)\n",
    "plt.show()"
   ]
  },
  {
   "cell_type": "code",
   "execution_count": 33,
   "metadata": {},
   "outputs": [
    {
     "name": "stdout",
     "output_type": "stream",
     "text": [
      "200000000.0\n",
      "600000000.0\n",
      "400000000.0\n",
      "-400000000.0\n",
      "1200000000.0\n"
     ]
    }
   ],
   "source": [
    "Q1 = data['price'].quantile(0.25)\n",
    "Q3 = data['price'].quantile(0.75)\n",
    "IQR = Q3 - Q1\n",
    "BI = Q1 - 1.5*IQR\n",
    "BS = Q3 + 1.5*IQR\n",
    "\n",
    "print(Q1)\n",
    "print(Q3)\n",
    "print(IQR)\n",
    "print(BI)\n",
    "print(BS)"
   ]
  },
  {
   "cell_type": "code",
   "execution_count": 34,
   "metadata": {},
   "outputs": [
    {
     "name": "stdout",
     "output_type": "stream",
     "text": [
      "Cantidad de registros totales: 197545\n",
      "Cantidad de outliers: 19317\n"
     ]
    }
   ],
   "source": [
    "#Se identifica el numero de outliers, al ser un porcentaje bajo se procede a aislarlos\n",
    "print('Cantidad de registros totales:', data.shape[0])\n",
    "print('Cantidad de outliers:', data[(data['price']<BI) | (data['price']>BS)].shape[0] )"
   ]
  },
  {
   "cell_type": "code",
   "execution_count": 35,
   "metadata": {},
   "outputs": [],
   "source": [
    "price123 = (data['price']<BI) | (data['price']>BS) \n",
    "\n",
    "data = data[~price123]"
   ]
  },
  {
   "cell_type": "code",
   "execution_count": 36,
   "metadata": {},
   "outputs": [
    {
     "data": {
      "image/png": "[encoded data removed]",
      "text/plain": [
       "<Figure size 640x480 with 1 Axes>"
      ]
     },
     "metadata": {},
     "output_type": "display_data"
    }
   ],
   "source": [
    "#Ahora nuestros precios estan mas representativamente distribuidos\n",
    "sns.boxplot(x = 'price', data = data)\n",
    "plt.show()"
   ]
  },
  {
   "cell_type": "code",
   "execution_count": 37,
   "metadata": {},
   "outputs": [],
   "source": [
    "#Se crea columna binari donde 0 son los precios barato y 1 son los precios caros segun la distribucion de los precios\n",
    "data['pricebinary'] = pd.cut(x = data['price'],\n",
    "                       bins=[data['price'].min()-1,\n",
    "                             data['price'].mean(),\n",
    "                             data['price'].max()+1], \n",
    "                       labels=[0,1])"
   ]
  },
  {
   "cell_type": "code",
   "execution_count": 41,
   "metadata": {},
   "outputs": [
    {
     "data": {
      "image/png": "[encoded data removed]",
      "text/plain": [
       "<Figure size 1000x1000 with 2 Axes>"
      ]
     },
     "metadata": {},
     "output_type": "display_data"
    }
   ],
   "source": [
    "#Un mapa de correlacion para identificar que columnas influyen mas en el precio\n",
    "corr=data.corr()\n",
    "plt.figure(figsize=(10,10))\n",
    "sns.heatmap(corr, cbar = True,  square = True, annot=True, fmt= '.2f',annot_kws={'size': 20},\n",
    "           xticklabels= corr.columns, \n",
    "           yticklabels= corr.columns,\n",
    "           cmap= 'coolwarm')\n",
    "plt.show()\n"
   ]
  },
  {
   "cell_type": "code",
   "execution_count": 42,
   "metadata": {},
   "outputs": [
    {
     "name": "stderr",
     "output_type": "stream",
     "text": [
      "/var/folders/2n/42m9mx412xq0gmr0k07j5m_c0000gn/T/ipykernel_8194/299305700.py:2: FutureWarning: Dropping of nuisance columns in DataFrame reductions (with 'numeric_only=None') is deprecated; in a future version this will raise TypeError.  Select only valid columns before calling the reduction.\n",
      "  data.fillna(data.mean(), inplace=True)\n"
     ]
    }
   ],
   "source": [
    "#Se reeemplazan los Na con el promedio para que no afecten el outcome\n",
    "data.fillna(data.mean(), inplace=True)"
   ]
  },
  {
   "cell_type": "code",
   "execution_count": 43,
   "metadata": {},
   "outputs": [
    {
     "data": {
      "text/html": [
       "<div>\n",
       "<style scoped>\n",
       "    .dataframe tbody tr th:only-of-type {\n",
       "        vertical-align: middle;\n",
       "    }\n",
       "\n",
       "    .dataframe tbody tr th {\n",
       "        vertical-align: top;\n",
       "    }\n",
       "\n",
       "    .dataframe thead th {\n",
       "        text-align: right;\n",
       "    }\n",
       "</style>\n",
       "<table border=\"1\" class=\"dataframe\">\n",
       "  <thead>\n",
       "    <tr style=\"text-align: right;\">\n",
       "      <th></th>\n",
       "      <th>Unnamed: 0</th>\n",
       "      <th>id</th>\n",
       "      <th>ad_type</th>\n",
       "      <th>start_date</th>\n",
       "      <th>end_date</th>\n",
       "      <th>created_on</th>\n",
       "      <th>lat</th>\n",
       "      <th>lon</th>\n",
       "      <th>l1</th>\n",
       "      <th>l2</th>\n",
       "      <th>...</th>\n",
       "      <th>surface_covered</th>\n",
       "      <th>price</th>\n",
       "      <th>currency</th>\n",
       "      <th>price_period</th>\n",
       "      <th>title</th>\n",
       "      <th>description</th>\n",
       "      <th>property_type</th>\n",
       "      <th>operation_type</th>\n",
       "      <th>geometry</th>\n",
       "      <th>pricebinary</th>\n",
       "    </tr>\n",
       "  </thead>\n",
       "  <tbody>\n",
       "    <tr>\n",
       "      <th>1</th>\n",
       "      <td>200972</td>\n",
       "      <td>DlCxox9+FuugkxS2kBVfJg==</td>\n",
       "      <td>Propiedad</td>\n",
       "      <td>2020-09-16</td>\n",
       "      <td>2021-05-14</td>\n",
       "      <td>2020-09-16</td>\n",
       "      <td>4.722748</td>\n",
       "      <td>-74.073115</td>\n",
       "      <td>Colombia</td>\n",
       "      <td>Cundinamarca</td>\n",
       "      <td>...</td>\n",
       "      <td>285.299804</td>\n",
       "      <td>625000000.0</td>\n",
       "      <td>COP</td>\n",
       "      <td>NaN</td>\n",
       "      <td>APARTAMENTO EN VENTA, BOGOTA-CIUDAD JARDIN NORTE</td>\n",
       "      <td>Venta apartamento en piso 16 con vista exterio...</td>\n",
       "      <td>Apartamento</td>\n",
       "      <td>Venta</td>\n",
       "      <td>POINT (-74.0731146 4.7227485)</td>\n",
       "      <td>1</td>\n",
       "    </tr>\n",
       "    <tr>\n",
       "      <th>2</th>\n",
       "      <td>554622</td>\n",
       "      <td>yitN1AigL45gh/K2YSF8rw==</td>\n",
       "      <td>Propiedad</td>\n",
       "      <td>2020-08-19</td>\n",
       "      <td>2020-08-20</td>\n",
       "      <td>2020-08-19</td>\n",
       "      <td>4.709000</td>\n",
       "      <td>-74.030000</td>\n",
       "      <td>Colombia</td>\n",
       "      <td>Cundinamarca</td>\n",
       "      <td>...</td>\n",
       "      <td>285.299804</td>\n",
       "      <td>420000000.0</td>\n",
       "      <td>COP</td>\n",
       "      <td>NaN</td>\n",
       "      <td>Apartamento En Venta En Bogota Bella Suiza Cod...</td>\n",
       "      <td>Al entrar a este bonito apartamento interior e...</td>\n",
       "      <td>Casa</td>\n",
       "      <td>Venta</td>\n",
       "      <td>POINT (-74.03 4.709)</td>\n",
       "      <td>1</td>\n",
       "    </tr>\n",
       "    <tr>\n",
       "      <th>4</th>\n",
       "      <td>448920</td>\n",
       "      <td>aBCtKT7LDzt2CxJQ+gVFEA==</td>\n",
       "      <td>Propiedad</td>\n",
       "      <td>2020-10-06</td>\n",
       "      <td>2020-10-07</td>\n",
       "      <td>2020-10-06</td>\n",
       "      <td>5.684794</td>\n",
       "      <td>-75.059202</td>\n",
       "      <td>Colombia</td>\n",
       "      <td>Antioquia</td>\n",
       "      <td>...</td>\n",
       "      <td>285.299804</td>\n",
       "      <td>210000000.0</td>\n",
       "      <td>COP</td>\n",
       "      <td>NaN</td>\n",
       "      <td>Apartamento en Venta Ubicado en ITAGUI</td>\n",
       "      <td>Codigo Inmueble 4302 Apartamento con 3 habitac...</td>\n",
       "      <td>Apartamento</td>\n",
       "      <td>Venta</td>\n",
       "      <td>POINT EMPTY</td>\n",
       "      <td>0</td>\n",
       "    </tr>\n",
       "    <tr>\n",
       "      <th>5</th>\n",
       "      <td>991390</td>\n",
       "      <td>25/kKYGu15xlIwnX/5zxbg==</td>\n",
       "      <td>Propiedad</td>\n",
       "      <td>2020-12-17</td>\n",
       "      <td>2021-03-04</td>\n",
       "      <td>2020-12-17</td>\n",
       "      <td>5.049009</td>\n",
       "      <td>-75.506802</td>\n",
       "      <td>Colombia</td>\n",
       "      <td>Caldas</td>\n",
       "      <td>...</td>\n",
       "      <td>285.299804</td>\n",
       "      <td>167952300.0</td>\n",
       "      <td>COP</td>\n",
       "      <td>NaN</td>\n",
       "      <td>Venta apartamento en Via Panamericana, Manizal...</td>\n",
       "      <td>Nos complace ofrecer este excelente proyecto u...</td>\n",
       "      <td>Apartamento</td>\n",
       "      <td>Venta</td>\n",
       "      <td>POINT (-75.50680161 5.04900894)</td>\n",
       "      <td>0</td>\n",
       "    </tr>\n",
       "    <tr>\n",
       "      <th>7</th>\n",
       "      <td>976383</td>\n",
       "      <td>NZQXFp4JdYAfUErzAN/Mjw==</td>\n",
       "      <td>Propiedad</td>\n",
       "      <td>2020-11-27</td>\n",
       "      <td>2021-02-26</td>\n",
       "      <td>2020-11-27</td>\n",
       "      <td>10.990806</td>\n",
       "      <td>-74.821082</td>\n",
       "      <td>Colombia</td>\n",
       "      <td>Atlántico</td>\n",
       "      <td>...</td>\n",
       "      <td>285.299804</td>\n",
       "      <td>184000000.0</td>\n",
       "      <td>COP</td>\n",
       "      <td>NaN</td>\n",
       "      <td>APARTAMENTOS EN OBRA A LA VENTA CON ENTREGA PA...</td>\n",
       "      <td>MATEUS INMOBILIARIA Y CONSTRUCTORA ZAGOZ TE PR...</td>\n",
       "      <td>Apartamento</td>\n",
       "      <td>Venta</td>\n",
       "      <td>POINT (-74.8210818 10.9908065)</td>\n",
       "      <td>0</td>\n",
       "    </tr>\n",
       "  </tbody>\n",
       "</table>\n",
       "<p>5 rows × 28 columns</p>\n",
       "</div>"
      ],
      "text/plain": [
       "   Unnamed: 0                        id    ad_type  start_date    end_date  \\\n",
       "1      200972  DlCxox9+FuugkxS2kBVfJg==  Propiedad  2020-09-16  2021-05-14   \n",
       "2      554622  yitN1AigL45gh/K2YSF8rw==  Propiedad  2020-08-19  2020-08-20   \n",
       "4      448920  aBCtKT7LDzt2CxJQ+gVFEA==  Propiedad  2020-10-06  2020-10-07   \n",
       "5      991390  25/kKYGu15xlIwnX/5zxbg==  Propiedad  2020-12-17  2021-03-04   \n",
       "7      976383  NZQXFp4JdYAfUErzAN/Mjw==  Propiedad  2020-11-27  2021-02-26   \n",
       "\n",
       "   created_on        lat        lon        l1            l2  ...  \\\n",
       "1  2020-09-16   4.722748 -74.073115  Colombia  Cundinamarca  ...   \n",
       "2  2020-08-19   4.709000 -74.030000  Colombia  Cundinamarca  ...   \n",
       "4  2020-10-06   5.684794 -75.059202  Colombia     Antioquia  ...   \n",
       "5  2020-12-17   5.049009 -75.506802  Colombia        Caldas  ...   \n",
       "7  2020-11-27  10.990806 -74.821082  Colombia     Atlántico  ...   \n",
       "\n",
       "  surface_covered        price currency price_period  \\\n",
       "1      285.299804  625000000.0      COP          NaN   \n",
       "2      285.299804  420000000.0      COP          NaN   \n",
       "4      285.299804  210000000.0      COP          NaN   \n",
       "5      285.299804  167952300.0      COP          NaN   \n",
       "7      285.299804  184000000.0      COP          NaN   \n",
       "\n",
       "                                               title  \\\n",
       "1   APARTAMENTO EN VENTA, BOGOTA-CIUDAD JARDIN NORTE   \n",
       "2  Apartamento En Venta En Bogota Bella Suiza Cod...   \n",
       "4             Apartamento en Venta Ubicado en ITAGUI   \n",
       "5  Venta apartamento en Via Panamericana, Manizal...   \n",
       "7  APARTAMENTOS EN OBRA A LA VENTA CON ENTREGA PA...   \n",
       "\n",
       "                                         description  property_type  \\\n",
       "1  Venta apartamento en piso 16 con vista exterio...    Apartamento   \n",
       "2  Al entrar a este bonito apartamento interior e...           Casa   \n",
       "4  Codigo Inmueble 4302 Apartamento con 3 habitac...    Apartamento   \n",
       "5  Nos complace ofrecer este excelente proyecto u...    Apartamento   \n",
       "7  MATEUS INMOBILIARIA Y CONSTRUCTORA ZAGOZ TE PR...    Apartamento   \n",
       "\n",
       "   operation_type                         geometry  pricebinary  \n",
       "1           Venta    POINT (-74.0731146 4.7227485)            1  \n",
       "2           Venta             POINT (-74.03 4.709)            1  \n",
       "4           Venta                      POINT EMPTY            0  \n",
       "5           Venta  POINT (-75.50680161 5.04900894)            0  \n",
       "7           Venta   POINT (-74.8210818 10.9908065)            0  \n",
       "\n",
       "[5 rows x 28 columns]"
      ]
     },
     "execution_count": 43,
     "metadata": {},
     "output_type": "execute_result"
    }
   ],
   "source": [
    "#Se revisa el dataset como va\n",
    "data.head()"
   ]
  },
  {
   "cell_type": "code",
   "execution_count": 44,
   "metadata": {},
   "outputs": [],
   "source": [
    "#Se divide el dataset entre train y test para empezar a evaluar modelos, solo se usan columnas mas relevantes que se vieron en la tabla de correlacion\n",
    "core=data[['rooms', 'bedrooms','bathrooms','surface_total']]\n",
    "target=data['pricebinary']\n",
    "from sklearn.model_selection import train_test_split\n",
    "\n",
    "X_train, X_test, y_train, y_test = train_test_split(core, target, test_size=0.2, random_state=42)"
   ]
  },
  {
   "cell_type": "code",
   "execution_count": 45,
   "metadata": {},
   "outputs": [],
   "source": [
    "from sklearn.preprocessing import StandardScaler\n",
    "from sklearn.decomposition import PCA\n",
    "from sklearn.pipeline import Pipeline\n",
    "from sklearn.linear_model import LogisticRegression\n",
    "from sklearn import svm\n",
    "from sklearn import tree"
   ]
  },
  {
   "cell_type": "code",
   "execution_count": null,
   "metadata": {},
   "outputs": [],
   "source": [
    "#Se unen las pipelines que se contemplaran\n",
    "pipe_lr = Pipeline([('scl', StandardScaler()),\n",
    "\t\t\t('pca', PCA(n_components=2)),\n",
    "\t\t\t('clf', LogisticRegression(random_state=42))])\n",
    "\n",
    "pipe_svm = Pipeline([('scl', StandardScaler()),\n",
    "\t\t\t('pca', PCA(n_components=2)),\n",
    "\t\t\t('clf', svm.SVC(random_state=42))])\n",
    "\n",
    "pipe_dt = Pipeline([('scl', StandardScaler()),\n",
    "\t\t\t('pca', PCA(n_components=2)),\n",
    "\t\t\t('clf', tree.DecisionTreeClassifier(random_state=42))])       \n",
    "\n",
    "pipelines = [pipe_lr, pipe_svm, pipe_dt]     "
   ]
  },
  {
   "cell_type": "code",
   "execution_count": null,
   "metadata": {},
   "outputs": [],
   "source": [
    "#Se entrenan con los datos todas las pipelines\n",
    "for pipe in pipelines:\n",
    "\tpipe.fit(X_train, y_train)"
   ]
  },
  {
   "cell_type": "code",
   "execution_count": null,
   "metadata": {},
   "outputs": [],
   "source": [
    "pipe_dict = {0: 'Regresión Logística', 1: 'SVM', 2: 'Árbol de decisión'}"
   ]
  },
  {
   "cell_type": "code",
   "execution_count": null,
   "metadata": {},
   "outputs": [
    {
     "name": "stdout",
     "output_type": "stream",
     "text": [
      "Regresión Logística pipeline accuracy en test: 0.637\n",
      "SVM pipeline accuracy en test: 0.713\n",
      "Árbol de decisión pipeline accuracy en test: 0.741\n"
     ]
    }
   ],
   "source": [
    "#Se realiza el accuracy test\n",
    "for idx, val in enumerate(pipelines):\n",
    "\tprint('%s pipeline accuracy en test: %.3f' % (pipe_dict[idx], val.score(X_test, y_test)))"
   ]
  },
  {
   "cell_type": "code",
   "execution_count": null,
   "metadata": {},
   "outputs": [
    {
     "name": "stdout",
     "output_type": "stream",
     "text": [
      "Modelo con el mejor accuracy: Árbol de decisión\n"
     ]
    }
   ],
   "source": [
    "#se identifica la mejor pipeline\n",
    "best_acc = 0.0\n",
    "best_clf = 0\n",
    "best_pipe = ''\n",
    "for idx, val in enumerate(pipelines):\n",
    "\tif val.score(X_test, y_test) > best_acc:\n",
    "\t\tbest_acc = val.score(X_test, y_test)\n",
    "\t\tbest_pipe = val\n",
    "\t\tbest_clf = idx\n",
    "print('Modelo con el mejor accuracy: %s' % pipe_dict[best_clf])"
   ]
  },
  {
   "cell_type": "code",
   "execution_count": null,
   "metadata": {},
   "outputs": [
    {
     "name": "stdout",
     "output_type": "stream",
     "text": [
      "Pipeline de Árbol de decisión guardado a archivo\n"
     ]
    }
   ],
   "source": [
    "# Guardamos el pipeline en un archivo\n",
    "\n",
    "import joblib\n",
    "\n",
    "joblib.dump(best_pipe, 'WSII_pipeline.pkl', compress=1)\n",
    "print('Pipeline de %s guardado a archivo' % pipe_dict[best_clf])"
   ]
  },
  {
   "cell_type": "code",
   "execution_count": 46,
   "metadata": {},
   "outputs": [
    {
     "data": {
      "text/html": [
       "<div>\n",
       "<style scoped>\n",
       "    .dataframe tbody tr th:only-of-type {\n",
       "        vertical-align: middle;\n",
       "    }\n",
       "\n",
       "    .dataframe tbody tr th {\n",
       "        vertical-align: top;\n",
       "    }\n",
       "\n",
       "    .dataframe thead th {\n",
       "        text-align: right;\n",
       "    }\n",
       "</style>\n",
       "<table border=\"1\" class=\"dataframe\">\n",
       "  <thead>\n",
       "    <tr style=\"text-align: right;\">\n",
       "      <th></th>\n",
       "      <th>Unnamed: 0</th>\n",
       "      <th>id</th>\n",
       "      <th>ad_type</th>\n",
       "      <th>start_date</th>\n",
       "      <th>end_date</th>\n",
       "      <th>created_on</th>\n",
       "      <th>lat</th>\n",
       "      <th>lon</th>\n",
       "      <th>l1</th>\n",
       "      <th>l2</th>\n",
       "      <th>...</th>\n",
       "      <th>bathrooms</th>\n",
       "      <th>surface_total</th>\n",
       "      <th>surface_covered</th>\n",
       "      <th>currency</th>\n",
       "      <th>price_period</th>\n",
       "      <th>title</th>\n",
       "      <th>description</th>\n",
       "      <th>property_type</th>\n",
       "      <th>operation_type</th>\n",
       "      <th>geometry</th>\n",
       "    </tr>\n",
       "  </thead>\n",
       "  <tbody>\n",
       "    <tr>\n",
       "      <th>0</th>\n",
       "      <td>852569</td>\n",
       "      <td>pCiVu6rxpBq9dCZfYCXXgA==</td>\n",
       "      <td>Propiedad</td>\n",
       "      <td>2020-09-04</td>\n",
       "      <td>2020-09-12</td>\n",
       "      <td>2020-09-04</td>\n",
       "      <td>4.722000</td>\n",
       "      <td>-74.075000</td>\n",
       "      <td>Colombia</td>\n",
       "      <td>Cundinamarca</td>\n",
       "      <td>...</td>\n",
       "      <td>3.0</td>\n",
       "      <td>660.0</td>\n",
       "      <td>350.0</td>\n",
       "      <td>COP</td>\n",
       "      <td>NaN</td>\n",
       "      <td>Casa En Arriendo/venta En Bogota Sotileza Cod....</td>\n",
       "      <td>EXCLUSIVA CASA EN VENTA Y ARRIENDO, UBICADA EN...</td>\n",
       "      <td>Casa</td>\n",
       "      <td>Venta</td>\n",
       "      <td>POINT (-74.075 4.722)</td>\n",
       "    </tr>\n",
       "    <tr>\n",
       "      <th>1</th>\n",
       "      <td>121379</td>\n",
       "      <td>L0XSQ7mF1TWb1lHRg4n2+A==</td>\n",
       "      <td>Propiedad</td>\n",
       "      <td>2020-10-20</td>\n",
       "      <td>2020-10-20</td>\n",
       "      <td>2020-10-20</td>\n",
       "      <td>NaN</td>\n",
       "      <td>NaN</td>\n",
       "      <td>Colombia</td>\n",
       "      <td>Antioquia</td>\n",
       "      <td>...</td>\n",
       "      <td>3.0</td>\n",
       "      <td>NaN</td>\n",
       "      <td>NaN</td>\n",
       "      <td>COP</td>\n",
       "      <td>Mensual</td>\n",
       "      <td>SE VENDE APARTAMENTO EN EL SECTOR DE ZUÑIGA-EN...</td>\n",
       "      <td>PR 7555. Apartamento Duplex en unidad cerrada,...</td>\n",
       "      <td>Apartamento</td>\n",
       "      <td>Venta</td>\n",
       "      <td>POINT EMPTY</td>\n",
       "    </tr>\n",
       "    <tr>\n",
       "      <th>2</th>\n",
       "      <td>119504</td>\n",
       "      <td>FbWRxZOMNoUzVOLXgkum1A==</td>\n",
       "      <td>Propiedad</td>\n",
       "      <td>2020-10-20</td>\n",
       "      <td>2020-10-22</td>\n",
       "      <td>2020-10-20</td>\n",
       "      <td>6.259253</td>\n",
       "      <td>-75.628381</td>\n",
       "      <td>Colombia</td>\n",
       "      <td>Antioquia</td>\n",
       "      <td>...</td>\n",
       "      <td>1.0</td>\n",
       "      <td>NaN</td>\n",
       "      <td>NaN</td>\n",
       "      <td>COP</td>\n",
       "      <td>NaN</td>\n",
       "      <td>Casa Barata San Javier Solo por este mes</td>\n",
       "      <td>Casa compraventa escrituras en \\n proceso,sala...</td>\n",
       "      <td>Casa</td>\n",
       "      <td>Venta</td>\n",
       "      <td>POINT (-75.6283806 6.25925267)</td>\n",
       "    </tr>\n",
       "    <tr>\n",
       "      <th>3</th>\n",
       "      <td>227304</td>\n",
       "      <td>RUV1P+3UOmNdlJ9fBdWFyw==</td>\n",
       "      <td>Propiedad</td>\n",
       "      <td>2020-12-10</td>\n",
       "      <td>9999-12-31</td>\n",
       "      <td>2020-12-10</td>\n",
       "      <td>6.203000</td>\n",
       "      <td>-75.556000</td>\n",
       "      <td>Colombia</td>\n",
       "      <td>Antioquia</td>\n",
       "      <td>...</td>\n",
       "      <td>NaN</td>\n",
       "      <td>2793.0</td>\n",
       "      <td>NaN</td>\n",
       "      <td>COP</td>\n",
       "      <td>NaN</td>\n",
       "      <td>Lote En Venta En Medellin La Calera Cod. VRPR6330</td>\n",
       "      <td>CODIGO 6330LOTE PARA LA VENTA DE 2793MTS</td>\n",
       "      <td>Lote</td>\n",
       "      <td>Venta</td>\n",
       "      <td>POINT (-75.556 6.203)</td>\n",
       "    </tr>\n",
       "    <tr>\n",
       "      <th>4</th>\n",
       "      <td>228600</td>\n",
       "      <td>ifKutEAhyovuDNeYrFFV+A==</td>\n",
       "      <td>Propiedad</td>\n",
       "      <td>2020-12-10</td>\n",
       "      <td>2020-12-11</td>\n",
       "      <td>2020-12-10</td>\n",
       "      <td>NaN</td>\n",
       "      <td>NaN</td>\n",
       "      <td>Colombia</td>\n",
       "      <td>Antioquia</td>\n",
       "      <td>...</td>\n",
       "      <td>2.0</td>\n",
       "      <td>NaN</td>\n",
       "      <td>NaN</td>\n",
       "      <td>COP</td>\n",
       "      <td>NaN</td>\n",
       "      <td>Casa en Venta Ubicado en MEDELLIN</td>\n",
       "      <td>Codigo Inmueble 505457 Casa en venta en el sec...</td>\n",
       "      <td>Casa</td>\n",
       "      <td>Venta</td>\n",
       "      <td>POINT EMPTY</td>\n",
       "    </tr>\n",
       "  </tbody>\n",
       "</table>\n",
       "<p>5 rows × 26 columns</p>\n",
       "</div>"
      ],
      "text/plain": [
       "   Unnamed: 0                        id    ad_type  start_date    end_date  \\\n",
       "0      852569  pCiVu6rxpBq9dCZfYCXXgA==  Propiedad  2020-09-04  2020-09-12   \n",
       "1      121379  L0XSQ7mF1TWb1lHRg4n2+A==  Propiedad  2020-10-20  2020-10-20   \n",
       "2      119504  FbWRxZOMNoUzVOLXgkum1A==  Propiedad  2020-10-20  2020-10-22   \n",
       "3      227304  RUV1P+3UOmNdlJ9fBdWFyw==  Propiedad  2020-12-10  9999-12-31   \n",
       "4      228600  ifKutEAhyovuDNeYrFFV+A==  Propiedad  2020-12-10  2020-12-11   \n",
       "\n",
       "   created_on       lat        lon        l1            l2  ... bathrooms  \\\n",
       "0  2020-09-04  4.722000 -74.075000  Colombia  Cundinamarca  ...       3.0   \n",
       "1  2020-10-20       NaN        NaN  Colombia     Antioquia  ...       3.0   \n",
       "2  2020-10-20  6.259253 -75.628381  Colombia     Antioquia  ...       1.0   \n",
       "3  2020-12-10  6.203000 -75.556000  Colombia     Antioquia  ...       NaN   \n",
       "4  2020-12-10       NaN        NaN  Colombia     Antioquia  ...       2.0   \n",
       "\n",
       "  surface_total surface_covered currency  price_period  \\\n",
       "0         660.0           350.0      COP           NaN   \n",
       "1           NaN             NaN      COP       Mensual   \n",
       "2           NaN             NaN      COP           NaN   \n",
       "3        2793.0             NaN      COP           NaN   \n",
       "4           NaN             NaN      COP           NaN   \n",
       "\n",
       "                                               title  \\\n",
       "0  Casa En Arriendo/venta En Bogota Sotileza Cod....   \n",
       "1  SE VENDE APARTAMENTO EN EL SECTOR DE ZUÑIGA-EN...   \n",
       "2           Casa Barata San Javier Solo por este mes   \n",
       "3  Lote En Venta En Medellin La Calera Cod. VRPR6330   \n",
       "4                  Casa en Venta Ubicado en MEDELLIN   \n",
       "\n",
       "                                         description  property_type  \\\n",
       "0  EXCLUSIVA CASA EN VENTA Y ARRIENDO, UBICADA EN...           Casa   \n",
       "1  PR 7555. Apartamento Duplex en unidad cerrada,...    Apartamento   \n",
       "2  Casa compraventa escrituras en \\n proceso,sala...           Casa   \n",
       "3           CODIGO 6330LOTE PARA LA VENTA DE 2793MTS           Lote   \n",
       "4  Codigo Inmueble 505457 Casa en venta en el sec...           Casa   \n",
       "\n",
       "   operation_type                        geometry  \n",
       "0           Venta           POINT (-74.075 4.722)  \n",
       "1           Venta                     POINT EMPTY  \n",
       "2           Venta  POINT (-75.6283806 6.25925267)  \n",
       "3           Venta           POINT (-75.556 6.203)  \n",
       "4           Venta                     POINT EMPTY  \n",
       "\n",
       "[5 rows x 26 columns]"
      ]
     },
     "execution_count": 46,
     "metadata": {},
     "output_type": "execute_result"
    }
   ],
   "source": [
    "#Se importa el archivo de test\n",
    "data1 = pd.read_csv(\"properties_colombia_test.csv\")\n",
    "data1.head()"
   ]
  },
  {
   "cell_type": "code",
   "execution_count": 47,
   "metadata": {},
   "outputs": [],
   "source": [
    "X_test=data1[['rooms', 'bedrooms','bathrooms','surface_total']].fillna(0)\n"
   ]
  },
  {
   "cell_type": "code",
   "execution_count": 48,
   "metadata": {},
   "outputs": [
    {
     "data": {
      "text/html": [
       "<style>#sk-container-id-1 {color: black;background-color: white;}#sk-container-id-1 pre{padding: 0;}#sk-container-id-1 div.sk-toggleable {background-color: white;}#sk-container-id-1 label.sk-toggleable__label {cursor: pointer;display: block;width: 100%;margin-bottom: 0;padding: 0.3em;box-sizing: border-box;text-align: center;}#sk-container-id-1 label.sk-toggleable__label-arrow:before {content: \"▸\";float: left;margin-right: 0.25em;color: #696969;}#sk-container-id-1 label.sk-toggleable__label-arrow:hover:before {color: black;}#sk-container-id-1 div.sk-estimator:hover label.sk-toggleable__label-arrow:before {color: black;}#sk-container-id-1 div.sk-toggleable__content {max-height: 0;max-width: 0;overflow: hidden;text-align: left;background-color: #f0f8ff;}#sk-container-id-1 div.sk-toggleable__content pre {margin: 0.2em;color: black;border-radius: 0.25em;background-color: #f0f8ff;}#sk-container-id-1 input.sk-toggleable__control:checked~div.sk-toggleable__content {max-height: 200px;max-width: 100%;overflow: auto;}#sk-container-id-1 input.sk-toggleable__control:checked~label.sk-toggleable__label-arrow:before {content: \"▾\";}#sk-container-id-1 div.sk-estimator input.sk-toggleable__control:checked~label.sk-toggleable__label {background-color: #d4ebff;}#sk-container-id-1 div.sk-label input.sk-toggleable__control:checked~label.sk-toggleable__label {background-color: #d4ebff;}#sk-container-id-1 input.sk-hidden--visually {border: 0;clip: rect(1px 1px 1px 1px);clip: rect(1px, 1px, 1px, 1px);height: 1px;margin: -1px;overflow: hidden;padding: 0;position: absolute;width: 1px;}#sk-container-id-1 div.sk-estimator {font-family: monospace;background-color: #f0f8ff;border: 1px dotted black;border-radius: 0.25em;box-sizing: border-box;margin-bottom: 0.5em;}#sk-container-id-1 div.sk-estimator:hover {background-color: #d4ebff;}#sk-container-id-1 div.sk-parallel-item::after {content: \"\";width: 100%;border-bottom: 1px solid gray;flex-grow: 1;}#sk-container-id-1 div.sk-label:hover label.sk-toggleable__label {background-color: #d4ebff;}#sk-container-id-1 div.sk-serial::before {content: \"\";position: absolute;border-left: 1px solid gray;box-sizing: border-box;top: 0;bottom: 0;left: 50%;z-index: 0;}#sk-container-id-1 div.sk-serial {display: flex;flex-direction: column;align-items: center;background-color: white;padding-right: 0.2em;padding-left: 0.2em;position: relative;}#sk-container-id-1 div.sk-item {position: relative;z-index: 1;}#sk-container-id-1 div.sk-parallel {display: flex;align-items: stretch;justify-content: center;background-color: white;position: relative;}#sk-container-id-1 div.sk-item::before, #sk-container-id-1 div.sk-parallel-item::before {content: \"\";position: absolute;border-left: 1px solid gray;box-sizing: border-box;top: 0;bottom: 0;left: 50%;z-index: -1;}#sk-container-id-1 div.sk-parallel-item {display: flex;flex-direction: column;z-index: 1;position: relative;background-color: white;}#sk-container-id-1 div.sk-parallel-item:first-child::after {align-self: flex-end;width: 50%;}#sk-container-id-1 div.sk-parallel-item:last-child::after {align-self: flex-start;width: 50%;}#sk-container-id-1 div.sk-parallel-item:only-child::after {width: 0;}#sk-container-id-1 div.sk-dashed-wrapped {border: 1px dashed gray;margin: 0 0.4em 0.5em 0.4em;box-sizing: border-box;padding-bottom: 0.4em;background-color: white;}#sk-container-id-1 div.sk-label label {font-family: monospace;font-weight: bold;display: inline-block;line-height: 1.2em;}#sk-container-id-1 div.sk-label-container {text-align: center;}#sk-container-id-1 div.sk-container {/* jupyter's `normalize.less` sets `[hidden] { display: none; }` but bootstrap.min.css set `[hidden] { display: none !important; }` so we also need the `!important` here to be able to override the default hidden behavior on the sphinx rendered scikit-learn.org. See: https://github.com/scikit-learn/scikit-learn/issues/21755 */display: inline-block !important;position: relative;}#sk-container-id-1 div.sk-text-repr-fallback {display: none;}</style><div id=\"sk-container-id-1\" class=\"sk-top-container\"><div class=\"sk-text-repr-fallback\"><pre>DecisionTreeClassifier()</pre><b>In a Jupyter environment, please rerun this cell to show the HTML representation or trust the notebook. <br />On GitHub, the HTML representation is unable to render, please try loading this page with nbviewer.org.</b></div><div class=\"sk-container\" hidden><div class=\"sk-item\"><div class=\"sk-estimator sk-toggleable\"><input class=\"sk-toggleable__control sk-hidden--visually\" id=\"sk-estimator-id-1\" type=\"checkbox\" checked><label for=\"sk-estimator-id-1\" class=\"sk-toggleable__label sk-toggleable__label-arrow\">DecisionTreeClassifier</label><div class=\"sk-toggleable__content\"><pre>DecisionTreeClassifier()</pre></div></div></div></div></div>"
      ],
      "text/plain": [
       "DecisionTreeClassifier()"
      ]
     },
     "execution_count": 48,
     "metadata": {},
     "output_type": "execute_result"
    }
   ],
   "source": [
    "#Ahora que sabemos el mejor modelo para predecir se usa ese modelo\n",
    "from sklearn.tree import DecisionTreeClassifier # Se define el clasificador\n",
    "\n",
    "dt = DecisionTreeClassifier()\n",
    "\n",
    "# Se entrena el modelo\n",
    "dt.fit(X_train, y_train)\n"
   ]
  },
  {
   "cell_type": "code",
   "execution_count": 49,
   "metadata": {},
   "outputs": [],
   "source": [
    "#Se predice usando el modelo\n",
    "y_test_pred = dt.predict(X_test)"
   ]
  },
  {
   "cell_type": "code",
   "execution_count": 50,
   "metadata": {},
   "outputs": [
    {
     "data": {
      "text/plain": [
       "65850"
      ]
     },
     "execution_count": 50,
     "metadata": {},
     "output_type": "execute_result"
    }
   ],
   "source": [
    "#Aca yace la predicion con 65850 predicciones\n",
    "len(y_test_pred)"
   ]
  },
  {
   "cell_type": "code",
   "execution_count": 51,
   "metadata": {},
   "outputs": [
    {
     "data": {
      "text/plain": [
       "array([1, 1, 0, ..., 0, 0, 0])"
      ]
     },
     "execution_count": 51,
     "metadata": {},
     "output_type": "execute_result"
    }
   ],
   "source": [
    "y_test_pred"
   ]
  },
  {
   "cell_type": "code",
   "execution_count": 54,
   "metadata": {},
   "outputs": [],
   "source": [
    "df = pd.DataFrame(y_test_pred,columns=['pred'])"
   ]
  },
  {
   "cell_type": "code",
   "execution_count": 55,
   "metadata": {},
   "outputs": [
    {
     "data": {
      "text/html": [
       "<div>\n",
       "<style scoped>\n",
       "    .dataframe tbody tr th:only-of-type {\n",
       "        vertical-align: middle;\n",
       "    }\n",
       "\n",
       "    .dataframe tbody tr th {\n",
       "        vertical-align: top;\n",
       "    }\n",
       "\n",
       "    .dataframe thead th {\n",
       "        text-align: right;\n",
       "    }\n",
       "</style>\n",
       "<table border=\"1\" class=\"dataframe\">\n",
       "  <thead>\n",
       "    <tr style=\"text-align: right;\">\n",
       "      <th></th>\n",
       "      <th>pred</th>\n",
       "    </tr>\n",
       "  </thead>\n",
       "  <tbody>\n",
       "    <tr>\n",
       "      <th>0</th>\n",
       "      <td>1</td>\n",
       "    </tr>\n",
       "    <tr>\n",
       "      <th>1</th>\n",
       "      <td>1</td>\n",
       "    </tr>\n",
       "    <tr>\n",
       "      <th>2</th>\n",
       "      <td>0</td>\n",
       "    </tr>\n",
       "    <tr>\n",
       "      <th>3</th>\n",
       "      <td>0</td>\n",
       "    </tr>\n",
       "    <tr>\n",
       "      <th>4</th>\n",
       "      <td>0</td>\n",
       "    </tr>\n",
       "  </tbody>\n",
       "</table>\n",
       "</div>"
      ],
      "text/plain": [
       "   pred\n",
       "0     1\n",
       "1     1\n",
       "2     0\n",
       "3     0\n",
       "4     0"
      ]
     },
     "execution_count": 55,
     "metadata": {},
     "output_type": "execute_result"
    }
   ],
   "source": [
    "df.head()"
   ]
  },
  {
   "cell_type": "code",
   "execution_count": 56,
   "metadata": {},
   "outputs": [],
   "source": [
    "df.to_csv(r\"andresmzayalaformatocorrecto.csv\",index=False)"
   ]
  }
 ],
 "metadata": {
  "kernelspec": {
   "display_name": "Python 3.8.13 ('base')",
   "language": "python",
   "name": "python3"
  },
  "language_info": {
   "codemirror_mode": {
    "name": "ipython",
    "version": 3
   },
   "file_extension": ".py",
   "mimetype": "text/x-python",
   "name": "python",
   "nbconvert_exporter": "python",
   "pygments_lexer": "ipython3",
   "version": "3.8.13"
  },
  "orig_nbformat": 4,
  "vscode": {
   "interpreter": {
    "hash": "7ad2a7ee31cf2f845c9cb204541997a7bff8346b58ddc260bf0cb045f0f56d75"
   }
  }
 },
 "nbformat": 4,
 "nbformat_minor": 2
}
